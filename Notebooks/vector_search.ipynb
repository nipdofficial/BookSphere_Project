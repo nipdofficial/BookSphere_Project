{
 "cells": [
  {
   "cell_type": "code",
   "id": "ab79adea-f3c2-427c-810a-a2eb540fbadb",
   "metadata": {
    "ExecuteTime": {
     "end_time": "2025-08-30T16:40:36.476362Z",
     "start_time": "2025-08-30T16:40:36.472969Z"
    }
   },
   "source": [
    "from langchain_community.document_loaders import TextLoader\n",
    "from langchain.text_splitter import RecursiveCharacterTextSplitter\n",
    "from langchain_huggingface import HuggingFaceEmbeddings  # updated import\n",
    "from langchain_community.vectorstores import FAISS"
   ],
   "outputs": [],
   "execution_count": 27
  },
  {
   "metadata": {
    "ExecuteTime": {
     "end_time": "2025-08-30T16:40:39.279569Z",
     "start_time": "2025-08-30T16:40:39.274879Z"
    }
   },
   "cell_type": "code",
   "source": [
    "from dotenv import load_dotenv\n",
    "load_dotenv()"
   ],
   "id": "afed51f864bfa4c9",
   "outputs": [
    {
     "data": {
      "text/plain": [
       "True"
      ]
     },
     "execution_count": 28,
     "metadata": {},
     "output_type": "execute_result"
    }
   ],
   "execution_count": 28
  },
  {
   "metadata": {
    "ExecuteTime": {
     "end_time": "2025-08-30T15:30:43.610875Z",
     "start_time": "2025-08-30T15:30:43.536924Z"
    }
   },
   "cell_type": "code",
   "source": [
    "import pandas as pd\n",
    "\n",
    "books = pd.read_csv(r\"C:\\Users\\MSI\\Desktop\\Book Sphere\\data\\books_cleaned.csv\")\n",
    "print(books.head())\n"
   ],
   "id": "3ccab40f3c190695",
   "outputs": [
    {
     "name": "stdout",
     "output_type": "stream",
     "text": [
      "          isbn13      isbn10                title  \\\n",
      "0  9780002005883  0002005883               Gilead   \n",
      "1  9780002261982  0002261987         Spider's Web   \n",
      "2  9780006178736  0006178731       Rage of angels   \n",
      "3  9780006280897  0006280897       The Four Loves   \n",
      "4  9780006280934  0006280935  The Problem of Pain   \n",
      "\n",
      "                           authors                     categories  \\\n",
      "0               Marilynne Robinson                        Fiction   \n",
      "1  Charles Osborne;Agatha Christie  Detective and mystery stories   \n",
      "2                   Sidney Sheldon                        Fiction   \n",
      "3              Clive Staples Lewis                 Christian life   \n",
      "4              Clive Staples Lewis                 Christian life   \n",
      "\n",
      "                                           thumbnail  \\\n",
      "0  http://books.google.com/books/content?id=KQZCP...   \n",
      "1  http://books.google.com/books/content?id=gA5GP...   \n",
      "2  http://books.google.com/books/content?id=FKo2T...   \n",
      "3  http://books.google.com/books/content?id=XhQ5X...   \n",
      "4  http://books.google.com/books/content?id=Kk-uV...   \n",
      "\n",
      "                                         description  published_year  \\\n",
      "0  A NOVEL THAT READERS and critics have been eag...          2004.0   \n",
      "1  A new 'Christie for Christmas' -- a full-lengt...          2000.0   \n",
      "2  A memorable, mesmerizing heroine Jennifer -- b...          1993.0   \n",
      "3  Lewis' work on the nature of love divides love...          2002.0   \n",
      "4  \"In The Problem of Pain, C.S. Lewis, one of th...          2002.0   \n",
      "\n",
      "   average_rating  num_pages  ratings_count      title_and_subtitle  \\\n",
      "0            3.85      247.0          361.0                  Gilead   \n",
      "1            3.83      241.0         5164.0  Spider's Web + A Novel   \n",
      "2            3.93      512.0        29532.0          Rage of angels   \n",
      "3            4.15      170.0        33684.0          The Four Loves   \n",
      "4            4.09      176.0        37569.0     The Problem of Pain   \n",
      "\n",
      "                                  tagged_description  \n",
      "0  9780002005883 A NOVEL THAT READERS and critics...  \n",
      "1  9780002261982 A new 'Christie for Christmas' -...  \n",
      "2  9780006178736 A memorable, mesmerizing heroine...  \n",
      "3  9780006280897 Lewis' work on the nature of lov...  \n",
      "4  9780006280934 \"In The Problem of Pain, C.S. Le...  \n"
     ]
    }
   ],
   "execution_count": 4
  },
  {
   "metadata": {
    "ExecuteTime": {
     "end_time": "2025-08-30T15:36:52.761193Z",
     "start_time": "2025-08-30T15:36:52.749564Z"
    }
   },
   "cell_type": "code",
   "source": [
    "with open(\"../tagged_description.txt\", \"w\", encoding=\"utf-8\") as f:\n",
    "    for line in books[\"tagged_description\"].tolist():\n",
    "        f.write(line + \"\\n\")\n"
   ],
   "id": "3224ab8856854f7c",
   "outputs": [],
   "execution_count": 7
  },
  {
   "metadata": {
    "ExecuteTime": {
     "end_time": "2025-08-30T15:44:30.680634Z",
     "start_time": "2025-08-30T15:44:30.645972Z"
    }
   },
   "cell_type": "code",
   "source": [
    "from langchain_community.document_loaders import TextLoader\n",
    "from langchain.schema import Document\n",
    "\n",
    "# Load document\n",
    "raw_documents = TextLoader(\"../tagged_description.txt\", encoding=\"utf-8\").load()\n",
    "\n",
    "# Manually split by newline (like chunk_size=0)\n",
    "documents = []\n",
    "for doc in raw_documents:\n",
    "    lines = doc.page_content.split(\"\\n\")\n",
    "    for line in lines:\n",
    "        if line.strip():  # skip empty lines\n",
    "            documents.append(Document(page_content=line))\n",
    "\n",
    "print(f\"Total chunks created: {len(documents)}\")\n"
   ],
   "id": "d586c0b8a1ca7d87",
   "outputs": [
    {
     "name": "stdout",
     "output_type": "stream",
     "text": [
      "Total chunks created: 5197\n"
     ]
    }
   ],
   "execution_count": 12
  },
  {
   "metadata": {
    "ExecuteTime": {
     "end_time": "2025-08-30T15:45:04.680201Z",
     "start_time": "2025-08-30T15:45:04.676253Z"
    }
   },
   "cell_type": "code",
   "source": "documents[0]",
   "id": "a69287e0cbab31eb",
   "outputs": [
    {
     "data": {
      "text/plain": [
       "Document(metadata={}, page_content='9780002005883 A NOVEL THAT READERS and critics have been eagerly anticipating for over a decade, Gilead is an astonishingly imagined story of remarkable lives. John Ames is a preacher, the son of a preacher and the grandson (both maternal and paternal) of preachers. It’s 1956 in Gilead, Iowa, towards the end of the Reverend Ames’s life, and he is absorbed in recording his family’s story, a legacy for the young son he will never see grow up. Haunted by his grandfather’s presence, John tells of the rift between his grandfather and his father: the elder, an angry visionary who fought for the abolitionist cause, and his son, an ardent pacifist. He is troubled, too, by his prodigal namesake, Jack (John Ames) Boughton, his best friend’s lost son who returns to Gilead searching for forgiveness and redemption. Told in John Ames’s joyous, rambling voice that finds beauty, humour and truth in the smallest of life’s details, Gilead is a song of celebration and acceptance of the best and the worst the world has to offer. At its heart is a tale of the sacred bonds between fathers and sons, pitch-perfect in style and story, set to dazzle critics and readers alike.')"
      ]
     },
     "execution_count": 13,
     "metadata": {},
     "output_type": "execute_result"
    }
   ],
   "execution_count": 13
  },
  {
   "metadata": {
    "ExecuteTime": {
     "end_time": "2025-08-30T16:56:19.791744Z",
     "start_time": "2025-08-30T16:56:09.808408Z"
    }
   },
   "cell_type": "code",
   "source": [
    "from langchain_huggingface import HuggingFaceEmbeddings\n",
    "from langchain_community.vectorstores import Chroma\n",
    "\n",
    "# Initialize HuggingFace embeddings\n",
    "embeddings = HuggingFaceEmbeddings(model_name=\"sentence-transformers/all-MiniLM-L6-v2\")\n",
    "\n",
    "# Example usage with Chroma\n",
    "texts = [\"This is a book about AI.\", \"This is a novel about love.\"]\n",
    "db = Chroma.from_texts(texts, embeddings, persist_directory=\"db_books\")\n",
    "\n",
    "# Test search\n",
    "query = \"romantic stories\"\n",
    "results = db.similarity_search(query, k=1)\n",
    "print(results)\n",
    "\n"
   ],
   "id": "b61ff2e36be45271",
   "outputs": [
    {
     "name": "stderr",
     "output_type": "stream",
     "text": [
      "C:\\Users\\MSI\\Desktop\\Book Sphere\\.venv\\Lib\\site-packages\\tqdm\\auto.py:21: TqdmWarning: IProgress not found. Please update jupyter and ipywidgets. See https://ipywidgets.readthedocs.io/en/stable/user_install.html\n",
      "  from .autonotebook import tqdm as notebook_tqdm\n"
     ]
    },
    {
     "name": "stdout",
     "output_type": "stream",
     "text": [
      "[Document(metadata={}, page_content='This is a novel about love.')]\n"
     ]
    }
   ],
   "execution_count": 36
  },
  {
   "metadata": {},
   "cell_type": "code",
   "outputs": [],
   "execution_count": null,
   "source": "",
   "id": "c22376ca50a515f1"
  },
  {
   "metadata": {
    "ExecuteTime": {
     "end_time": "2025-08-30T16:58:20.225994Z",
     "start_time": "2025-08-30T16:58:16.957244Z"
    }
   },
   "cell_type": "code",
   "source": "!pip install -U ipywidgets\n",
   "id": "cc99f0b94511c310",
   "outputs": [
    {
     "name": "stdout",
     "output_type": "stream",
     "text": [
      "Collecting ipywidgets\n",
      "  Using cached ipywidgets-8.1.7-py3-none-any.whl.metadata (2.4 kB)\n",
      "Requirement already satisfied: comm>=0.1.3 in c:\\users\\msi\\desktop\\book sphere\\.venv\\lib\\site-packages (from ipywidgets) (0.2.3)\n",
      "Requirement already satisfied: ipython>=6.1.0 in c:\\users\\msi\\desktop\\book sphere\\.venv\\lib\\site-packages (from ipywidgets) (9.5.0)\n",
      "Requirement already satisfied: traitlets>=4.3.1 in c:\\users\\msi\\desktop\\book sphere\\.venv\\lib\\site-packages (from ipywidgets) (5.14.3)\n",
      "Collecting widgetsnbextension~=4.0.14 (from ipywidgets)\n",
      "  Using cached widgetsnbextension-4.0.14-py3-none-any.whl.metadata (1.6 kB)\n",
      "Collecting jupyterlab_widgets~=3.0.15 (from ipywidgets)\n",
      "  Using cached jupyterlab_widgets-3.0.15-py3-none-any.whl.metadata (20 kB)\n",
      "Requirement already satisfied: colorama in c:\\users\\msi\\desktop\\book sphere\\.venv\\lib\\site-packages (from ipython>=6.1.0->ipywidgets) (0.4.6)\n",
      "Requirement already satisfied: decorator in c:\\users\\msi\\desktop\\book sphere\\.venv\\lib\\site-packages (from ipython>=6.1.0->ipywidgets) (5.2.1)\n",
      "Requirement already satisfied: ipython-pygments-lexers in c:\\users\\msi\\desktop\\book sphere\\.venv\\lib\\site-packages (from ipython>=6.1.0->ipywidgets) (1.1.1)\n",
      "Requirement already satisfied: jedi>=0.16 in c:\\users\\msi\\desktop\\book sphere\\.venv\\lib\\site-packages (from ipython>=6.1.0->ipywidgets) (0.19.2)\n",
      "Requirement already satisfied: matplotlib-inline in c:\\users\\msi\\desktop\\book sphere\\.venv\\lib\\site-packages (from ipython>=6.1.0->ipywidgets) (0.1.7)\n",
      "Requirement already satisfied: prompt_toolkit<3.1.0,>=3.0.41 in c:\\users\\msi\\desktop\\book sphere\\.venv\\lib\\site-packages (from ipython>=6.1.0->ipywidgets) (3.0.52)\n",
      "Requirement already satisfied: pygments>=2.4.0 in c:\\users\\msi\\desktop\\book sphere\\.venv\\lib\\site-packages (from ipython>=6.1.0->ipywidgets) (2.19.2)\n",
      "Requirement already satisfied: stack_data in c:\\users\\msi\\desktop\\book sphere\\.venv\\lib\\site-packages (from ipython>=6.1.0->ipywidgets) (0.6.3)\n",
      "Requirement already satisfied: wcwidth in c:\\users\\msi\\desktop\\book sphere\\.venv\\lib\\site-packages (from prompt_toolkit<3.1.0,>=3.0.41->ipython>=6.1.0->ipywidgets) (0.2.13)\n",
      "Requirement already satisfied: parso<0.9.0,>=0.8.4 in c:\\users\\msi\\desktop\\book sphere\\.venv\\lib\\site-packages (from jedi>=0.16->ipython>=6.1.0->ipywidgets) (0.8.5)\n",
      "Requirement already satisfied: executing>=1.2.0 in c:\\users\\msi\\desktop\\book sphere\\.venv\\lib\\site-packages (from stack_data->ipython>=6.1.0->ipywidgets) (2.2.0)\n",
      "Requirement already satisfied: asttokens>=2.1.0 in c:\\users\\msi\\desktop\\book sphere\\.venv\\lib\\site-packages (from stack_data->ipython>=6.1.0->ipywidgets) (3.0.0)\n",
      "Requirement already satisfied: pure-eval in c:\\users\\msi\\desktop\\book sphere\\.venv\\lib\\site-packages (from stack_data->ipython>=6.1.0->ipywidgets) (0.2.3)\n",
      "Using cached ipywidgets-8.1.7-py3-none-any.whl (139 kB)\n",
      "Using cached jupyterlab_widgets-3.0.15-py3-none-any.whl (216 kB)\n",
      "Using cached widgetsnbextension-4.0.14-py3-none-any.whl (2.2 MB)\n",
      "Installing collected packages: widgetsnbextension, jupyterlab_widgets, ipywidgets\n",
      "\n",
      "   -------------------------- ------------- 2/3 [ipywidgets]\n",
      "   -------------------------- ------------- 2/3 [ipywidgets]\n",
      "   -------------------------- ------------- 2/3 [ipywidgets]\n",
      "   -------------------------- ------------- 2/3 [ipywidgets]\n",
      "   -------------------------- ------------- 2/3 [ipywidgets]\n",
      "   -------------------------- ------------- 2/3 [ipywidgets]\n",
      "   ---------------------------------------- 3/3 [ipywidgets]\n",
      "\n",
      "Successfully installed ipywidgets-8.1.7 jupyterlab_widgets-3.0.15 widgetsnbextension-4.0.14\n"
     ]
    }
   ],
   "execution_count": 37
  },
  {
   "metadata": {
    "ExecuteTime": {
     "end_time": "2025-08-30T17:04:29.188122Z",
     "start_time": "2025-08-30T17:04:22.892647Z"
    }
   },
   "cell_type": "code",
   "source": [
    "from langchain_huggingface import HuggingFaceEmbeddings\n",
    "from langchain_community.vectorstores import Chroma\n",
    "\n",
    "# Initialize HuggingFace embeddings\n",
    "embeddings = HuggingFaceEmbeddings(model_name=\"sentence-transformers/all-MiniLM-L6-v2\")\n",
    "\n",
    "# Example usage with Chroma\n",
    "texts = [\"This is a book about AI.\", \"This is a novel about love.\"]\n",
    "db = Chroma.from_texts(texts, embeddings, persist_directory=\"db_books\")\n",
    "\n",
    "# Test search\n",
    "query = \"romantic stories\"\n",
    "results = db.similarity_search(query, k=10)\n",
    "print(results)\n",
    "\n"
   ],
   "id": "bcf03cc8ae7364c7",
   "outputs": [
    {
     "name": "stdout",
     "output_type": "stream",
     "text": [
      "[Document(metadata={}, page_content='This is a novel about love.'), Document(metadata={}, page_content='This is a novel about love.'), Document(metadata={}, page_content='This is a novel about love.'), Document(metadata={}, page_content='This is a novel about love.'), Document(metadata={}, page_content='This is a novel about love.'), Document(metadata={}, page_content='This is a novel about love.'), Document(metadata={}, page_content='This is a book about AI.'), Document(metadata={}, page_content='This is a book about AI.'), Document(metadata={}, page_content='This is a book about AI.'), Document(metadata={}, page_content='This is a book about AI.')]\n"
     ]
    }
   ],
   "execution_count": 39
  },
  {
   "metadata": {
    "ExecuteTime": {
     "end_time": "2025-08-30T17:09:53.918939Z",
     "start_time": "2025-08-30T17:09:53.901383Z"
    }
   },
   "cell_type": "code",
   "source": [
    "query = \"romantic stories\"\n",
    "results = db.similarity_search(query, k=1)  # or k=10\n",
    "\n",
    "# The first document\n",
    "first_doc = results[0]\n",
    "\n",
    "print(first_doc.page_content)\n"
   ],
   "id": "ba9633c13389a749",
   "outputs": [
    {
     "name": "stdout",
     "output_type": "stream",
     "text": [
      "This is a novel about love.\n"
     ]
    }
   ],
   "execution_count": 42
  },
  {
   "metadata": {
    "ExecuteTime": {
     "end_time": "2025-08-30T17:10:03.777085Z",
     "start_time": "2025-08-30T17:10:03.774894Z"
    }
   },
   "cell_type": "code",
   "source": "isbn_str = first_doc.page_content.split(\"\\n\")[0].strip()\n",
   "id": "c59257cc49084cf2",
   "outputs": [],
   "execution_count": 43
  },
  {
   "metadata": {
    "ExecuteTime": {
     "end_time": "2025-08-30T17:10:15.902395Z",
     "start_time": "2025-08-30T17:10:15.899220Z"
    }
   },
   "cell_type": "code",
   "source": [
    "try:\n",
    "    isbn_num = int(isbn_str)\n",
    "except ValueError:\n",
    "    print(f\"Cannot convert ISBN to int: {isbn_str}\")\n"
   ],
   "id": "a232175805a38a72",
   "outputs": [
    {
     "name": "stdout",
     "output_type": "stream",
     "text": [
      "Cannot convert ISBN to int: This is a novel about love.\n"
     ]
    }
   ],
   "execution_count": 44
  },
  {
   "metadata": {
    "ExecuteTime": {
     "end_time": "2025-08-30T17:14:15.889661Z",
     "start_time": "2025-08-30T17:13:31.783012Z"
    }
   },
   "cell_type": "code",
   "source": [
    "from langchain.schema import Document\n",
    "\n",
    "# Create documents with ISBNs in metadata\n",
    "documents = []\n",
    "for idx, row in books.iterrows():\n",
    "    documents.append(\n",
    "        Document(\n",
    "            page_content=row['tagged_description'],\n",
    "            metadata={\"isbn13\": row['isbn13']}\n",
    "        )\n",
    "    )\n",
    "\n",
    "# Build Chroma DB from these documents\n",
    "db = Chroma.from_documents(documents, embeddings, persist_directory=\"db_books\")\n",
    "\n",
    "# Example search\n",
    "query = \"romantic stories\"\n",
    "results = db.similarity_search(query, k=1)\n",
    "\n",
    "# Get ISBN from metadata\n",
    "first_doc = results[0]\n",
    "isbn_num = first_doc.metadata[\"isbn13\"]\n",
    "print(\"Matched ISBN:\", isbn_num)\n",
    "\n",
    "# Get book info from DataFrame\n",
    "matched_books = books[books[\"isbn13\"] == isbn_num]\n",
    "print(matched_books)\n"
   ],
   "id": "480f642f9dfc6ad0",
   "outputs": [
    {
     "name": "stdout",
     "output_type": "stream",
     "text": [
      "Matched ISBN: 9780141187198\n",
      "            isbn13      isbn10               title       authors categories  \\\n",
      "768  9780141187198  0141187190  Seven Gothic Tales  Isak Dinesen    Fiction   \n",
      "\n",
      "                                             thumbnail  \\\n",
      "768  http://books.google.com/books/content?id=4uKAn...   \n",
      "\n",
      "                                           description  published_year  \\\n",
      "768  A selection of stories about romantics, advent...          2002.0   \n",
      "\n",
      "     average_rating  num_pages  ratings_count  title_and_subtitle  \\\n",
      "768            3.94      368.0           82.0  Seven Gothic Tales   \n",
      "\n",
      "                                    tagged_description  \n",
      "768  9780141187198 A selection of stories about rom...  \n"
     ]
    }
   ],
   "execution_count": 48
  },
  {
   "metadata": {},
   "cell_type": "code",
   "outputs": [],
   "execution_count": null,
   "source": "",
   "id": "46ff7682b05ae033"
  },
  {
   "metadata": {
    "ExecuteTime": {
     "end_time": "2025-08-30T17:18:18.422407Z",
     "start_time": "2025-08-30T17:18:18.398093Z"
    }
   },
   "cell_type": "code",
   "source": [
    "# Example: search query\n",
    "query = \"books for babies about animals\"\n",
    "docs = db.similarity_search(query, k=10)\n"
   ],
   "id": "34f1d82982a794b",
   "outputs": [],
   "execution_count": 49
  },
  {
   "metadata": {
    "ExecuteTime": {
     "end_time": "2025-08-30T17:18:39.892801Z",
     "start_time": "2025-08-30T17:18:39.890413Z"
    }
   },
   "cell_type": "code",
   "source": [
    "# Suppose the ISBN is the first number in the document content\n",
    "doc_content = docs[0].page_content.strip()\n",
    "\n",
    "# Remove extra spaces and split if needed\n",
    "isbn_num = ''.join(filter(str.isdigit, doc_content))  # keep only digits\n",
    "isbn_num = int(isbn_num)\n"
   ],
   "id": "893b890698980498",
   "outputs": [],
   "execution_count": 50
  },
  {
   "metadata": {
    "ExecuteTime": {
     "end_time": "2025-08-30T17:18:54.717733Z",
     "start_time": "2025-08-30T17:18:54.712508Z"
    }
   },
   "cell_type": "code",
   "source": [
    "matched_books = books[books[\"isbn13\"] == isbn_num]\n",
    "\n",
    "print(matched_books)\n"
   ],
   "id": "9d9c3025684c562",
   "outputs": [
    {
     "name": "stdout",
     "output_type": "stream",
     "text": [
      "             isbn13      isbn10                  title             authors  \\\n",
      "3749  9780786808380  0786808381  Baby Einstein: Babies  Julie Aigner-Clark   \n",
      "\n",
      "            categories                                          thumbnail  \\\n",
      "3749  Juvenile Fiction  http://books.google.com/books/content?id=jv4NA...   \n",
      "\n",
      "                                            description  published_year  \\\n",
      "3749  Introduce your babies to birds, cats, dogs, an...          2002.0   \n",
      "\n",
      "      average_rating  num_pages  ratings_count     title_and_subtitle  \\\n",
      "3749            4.03       20.0           29.0  Baby Einstein: Babies   \n",
      "\n",
      "                                     tagged_description  \n",
      "3749  9780786808380 Introduce your babies to birds, ...  \n"
     ]
    }
   ],
   "execution_count": 51
  },
  {
   "metadata": {
    "ExecuteTime": {
     "end_time": "2025-08-30T17:20:21.813449Z",
     "start_time": "2025-08-30T17:20:21.810878Z"
    }
   },
   "cell_type": "code",
   "source": [
    "doc_content = docs[0].page_content.strip()\n",
    "isbn_str = doc_content.split()[0]  # take first word if ISBN is at start\n",
    "isbn_num = int(''.join(filter(str.isdigit, isbn_str)))  # keep only digits\n"
   ],
   "id": "910b3ee2c2be3c12",
   "outputs": [],
   "execution_count": 52
  },
  {
   "metadata": {
    "ExecuteTime": {
     "end_time": "2025-08-30T17:20:30.835130Z",
     "start_time": "2025-08-30T17:20:30.829765Z"
    }
   },
   "cell_type": "code",
   "source": [
    "matched_books = books[books[\"isbn13\"] == isbn_num]\n",
    "print(matched_books)\n"
   ],
   "id": "ccea2c7518d2af5",
   "outputs": [
    {
     "name": "stdout",
     "output_type": "stream",
     "text": [
      "             isbn13      isbn10                  title             authors  \\\n",
      "3749  9780786808380  0786808381  Baby Einstein: Babies  Julie Aigner-Clark   \n",
      "\n",
      "            categories                                          thumbnail  \\\n",
      "3749  Juvenile Fiction  http://books.google.com/books/content?id=jv4NA...   \n",
      "\n",
      "                                            description  published_year  \\\n",
      "3749  Introduce your babies to birds, cats, dogs, an...          2002.0   \n",
      "\n",
      "      average_rating  num_pages  ratings_count     title_and_subtitle  \\\n",
      "3749            4.03       20.0           29.0  Baby Einstein: Babies   \n",
      "\n",
      "                                     tagged_description  \n",
      "3749  9780786808380 Introduce your babies to birds, ...  \n"
     ]
    }
   ],
   "execution_count": 53
  },
  {
   "metadata": {
    "ExecuteTime": {
     "end_time": "2025-08-30T17:27:46.049386Z",
     "start_time": "2025-08-30T17:27:46.046073Z"
    }
   },
   "cell_type": "code",
   "source": [
    "# Function to retrieve semantic recommendations\n",
    "def retrieve_semantic_recommendations(query: str, top_k: int = 10) -> pd.DataFrame:\n",
    "    # Step 1: Semantic search in Chroma DB\n",
    "    recs = db_books.similarity_search(query, k=50)  # search top 50 similar docs\n",
    "\n",
    "    # Step 2: Extract ISBNs from the search results\n",
    "    books_list = []\n",
    "    for doc in recs[8:]:  # skip first 8 if needed\n",
    "        try:\n",
    "            isbn_str = doc.page_content.strip().split()[0]\n",
    "            isbn_num = int(''.join(filter(str.isdigit, isbn_str)))\n",
    "            books_list.append(isbn_num)\n",
    "        except:\n",
    "            continue  # skip if conversion fails\n",
    "\n",
    "    # Step 3: Return matching books from CSV\n",
    "    return books[books[\"isbn13\"].isin(books_list)].head(top_k)\n"
   ],
   "id": "9ec5931ce5f4157c",
   "outputs": [],
   "execution_count": 57
  },
  {
   "metadata": {
    "ExecuteTime": {
     "end_time": "2025-08-30T17:28:10.423576Z",
     "start_time": "2025-08-30T17:28:10.385049Z"
    }
   },
   "cell_type": "code",
   "source": [
    "recommendations = retrieve_semantic_recommendations(\"A book to teach children about animals\")\n",
    "print(recommendations)\n"
   ],
   "id": "1d1d3e5ae94b98a3",
   "outputs": [
    {
     "ename": "NameError",
     "evalue": "name 'db_books' is not defined",
     "output_type": "error",
     "traceback": [
      "\u001B[31m---------------------------------------------------------------------------\u001B[39m",
      "\u001B[31mNameError\u001B[39m                                 Traceback (most recent call last)",
      "\u001B[36mCell\u001B[39m\u001B[36m \u001B[39m\u001B[32mIn[58]\u001B[39m\u001B[32m, line 1\u001B[39m\n\u001B[32m----> \u001B[39m\u001B[32m1\u001B[39m recommendations = \u001B[43mretrieve_semantic_recommendations\u001B[49m\u001B[43m(\u001B[49m\u001B[33;43m\"\u001B[39;49m\u001B[33;43mA book to teach children about animals\u001B[39;49m\u001B[33;43m\"\u001B[39;49m\u001B[43m)\u001B[49m\n\u001B[32m      2\u001B[39m \u001B[38;5;28mprint\u001B[39m(recommendations)\n",
      "\u001B[36mCell\u001B[39m\u001B[36m \u001B[39m\u001B[32mIn[57]\u001B[39m\u001B[32m, line 4\u001B[39m, in \u001B[36mretrieve_semantic_recommendations\u001B[39m\u001B[34m(query, top_k)\u001B[39m\n\u001B[32m      2\u001B[39m \u001B[38;5;28;01mdef\u001B[39;00m\u001B[38;5;250m \u001B[39m\u001B[34mretrieve_semantic_recommendations\u001B[39m(query: \u001B[38;5;28mstr\u001B[39m, top_k: \u001B[38;5;28mint\u001B[39m = \u001B[32m10\u001B[39m) -> pd.DataFrame:\n\u001B[32m      3\u001B[39m     \u001B[38;5;66;03m# Step 1: Semantic search in Chroma DB\u001B[39;00m\n\u001B[32m----> \u001B[39m\u001B[32m4\u001B[39m     recs = \u001B[43mdb_books\u001B[49m.similarity_search(query, k=\u001B[32m50\u001B[39m)  \u001B[38;5;66;03m# search top 50 similar docs\u001B[39;00m\n\u001B[32m      6\u001B[39m     \u001B[38;5;66;03m# Step 2: Extract ISBNs from the search results\u001B[39;00m\n\u001B[32m      7\u001B[39m     books_list = []\n",
      "\u001B[31mNameError\u001B[39m: name 'db_books' is not defined"
     ]
    }
   ],
   "execution_count": 58
  },
  {
   "metadata": {
    "ExecuteTime": {
     "end_time": "2025-08-30T17:29:55.085471Z",
     "start_time": "2025-08-30T17:29:10.292540Z"
    }
   },
   "cell_type": "code",
   "source": [
    "from langchain_huggingface import HuggingFaceEmbeddings\n",
    "from langchain_community.vectorstores import Chroma\n",
    "\n",
    "# Initialize embeddings\n",
    "embeddings = HuggingFaceEmbeddings(model_name=\"sentence-transformers/all-MiniLM-L6-v2\")\n",
    "\n",
    "# Assuming you already have your documents split into 'documents'\n",
    "# or you can use your texts column from the CSV\n",
    "texts = books[\"tagged_description\"].tolist()\n",
    "\n",
    "# Build/load Chroma DB\n",
    "db_books = Chroma.from_texts(texts, embeddings, persist_directory=\"db_books\")\n",
    "\n",
    "# Optional: persist the database (Chroma auto-persists in newer versions)\n",
    "db_books.persist()\n"
   ],
   "id": "3514c2388498fb47",
   "outputs": [
    {
     "name": "stderr",
     "output_type": "stream",
     "text": [
      "C:\\Users\\MSI\\AppData\\Local\\Temp\\ipykernel_27160\\1824184229.py:15: LangChainDeprecationWarning: Since Chroma 0.4.x the manual persistence method is no longer supported as docs are automatically persisted.\n",
      "  db_books.persist()\n"
     ]
    }
   ],
   "execution_count": 59
  },
  {
   "metadata": {
    "ExecuteTime": {
     "end_time": "2025-08-30T17:31:51.366856Z",
     "start_time": "2025-08-30T17:31:51.332920Z"
    }
   },
   "cell_type": "code",
   "source": [
    "recommendations = retrieve_semantic_recommendations(\"A book to teach children about animals\")\n",
    "print(recommendations)\n"
   ],
   "id": "686a937569b7a156",
   "outputs": [
    {
     "name": "stdout",
     "output_type": "stream",
     "text": [
      "             isbn13      isbn10                                title  \\\n",
      "368   9780061127762  0061127760    Charlotte's Web Signature Edition   \n",
      "404   9780064402453  0064402452           Racso and the Rats of NIMH   \n",
      "406   9780064403870  0064403874  R-T, Margaret, and the Rats of NIMH   \n",
      "407   9780064404419  0064404412                   The Rainbow People   \n",
      "416   9780064406925  006440692X                   Winter on the Farm   \n",
      "429   9780064434980  0064434982                 The Deer in the Wood   \n",
      "812   9780142302279  0142302279                         Dirty Beasts   \n",
      "1078  9780241003008  0241003008          The Very Hungry Caterpillar   \n",
      "1222  9780312319731  0312319738                             Dominion   \n",
      "1479  9780345434906  0345434900               The Real James Herriot   \n",
      "\n",
      "                    authors                 categories  \\\n",
      "368             E. B. White           Juvenile Fiction   \n",
      "404       Jane Leslie Conly           Juvenile Fiction   \n",
      "406       Jane Leslie Conly           Juvenile Fiction   \n",
      "407            Laurence Yep           Juvenile Fiction   \n",
      "416    Laura Ingalls Wilder           Juvenile Fiction   \n",
      "429    Laura Ingalls Wilder           Juvenile Fiction   \n",
      "812              Roald Dahl        Juvenile Nonfiction   \n",
      "1078             Eric Carle          Babytime resource   \n",
      "1222         Matthew Scully                     Nature   \n",
      "1479  James Wight;Jim Wight  Biography & Autobiography   \n",
      "\n",
      "                                              thumbnail  \\\n",
      "368   http://books.google.com/books/content?id=oi9BP...   \n",
      "404   http://books.google.com/books/content?id=MgoNv...   \n",
      "406   http://books.google.com/books/content?id=WTHHH...   \n",
      "407   http://books.google.com/books/content?id=5AHwq...   \n",
      "416   http://books.google.com/books/content?id=IvlKH...   \n",
      "429   http://books.google.com/books/content?id=V7YDW...   \n",
      "812                                                 NaN   \n",
      "1078  http://books.google.com/books/content?id=DpGEQ...   \n",
      "1222  http://books.google.com/books/content?id=_htG-...   \n",
      "1479  http://books.google.com/books/content?id=TrOoi...   \n",
      "\n",
      "                                            description  published_year  \\\n",
      "368   This is the story of a little girl named Fern ...          2006.0   \n",
      "404   ‘Racso, a brash and boastful little rodent, is...          1988.0   \n",
      "406   When Margaret and her younger brother, Artie, ...          1991.0   \n",
      "407   \"Culled from 69 stories collected in a [1930s]...          1992.0   \n",
      "416   The Little House books tell the story of a lit...          1997.0   \n",
      "429   Even the youngest child can enjoy a special ad...          1999.0   \n",
      "812   Poems tell the stories of a smart pig who outw...          2002.0   \n",
      "1078  Eric Carle's children's classic is the story o...          1994.0   \n",
      "1222  Argues for responsible action in the treatment...          2003.0   \n",
      "1479  A portrait of the best-selling author of All C...          2001.0   \n",
      "\n",
      "      average_rating  num_pages  ratings_count  \\\n",
      "368             4.16      224.0          226.0   \n",
      "404             3.76      288.0         3231.0   \n",
      "406             3.52      272.0          631.0   \n",
      "407             3.75      208.0          202.0   \n",
      "416             4.13       32.0          400.0   \n",
      "429             4.17       32.0          302.0   \n",
      "812             4.02       32.0         3953.0   \n",
      "1078            4.29       26.0       340101.0   \n",
      "1222            4.16      448.0         1131.0   \n",
      "1479            4.20      371.0         4178.0   \n",
      "\n",
      "                                     title_and_subtitle  \\\n",
      "368                   Charlotte's Web Signature Edition   \n",
      "404                          Racso and the Rats of NIMH   \n",
      "406                 R-T, Margaret, and the Rats of NIMH   \n",
      "407                                  The Rainbow People   \n",
      "416                                  Winter on the Farm   \n",
      "429                                The Deer in the Wood   \n",
      "812                                        Dirty Beasts   \n",
      "1078                        The Very Hungry Caterpillar   \n",
      "1222  Dominion + The Power of Man, the Suffering of ...   \n",
      "1479     The Real James Herriot + A Memoir of My Father   \n",
      "\n",
      "                                     tagged_description  \n",
      "368   9780061127762 This is the story of a little gi...  \n",
      "404   9780064402453 ‘Racso, a brash and boastful lit...  \n",
      "406   9780064403870 When Margaret and her younger br...  \n",
      "407   9780064404419 \"Culled from 69 stories collecte...  \n",
      "416   9780064406925 The Little House books tell the ...  \n",
      "429   9780064434980 Even the youngest child can enjo...  \n",
      "812   9780142302279 Poems tell the stories of a smar...  \n",
      "1078  9780241003008 Eric Carle's children's classic ...  \n",
      "1222  9780312319731 Argues for responsible action in...  \n",
      "1479  9780345434906 A portrait of the best-selling a...  \n"
     ]
    }
   ],
   "execution_count": 60
  },
  {
   "metadata": {
    "ExecuteTime": {
     "end_time": "2025-08-30T17:36:57.610516Z",
     "start_time": "2025-08-30T17:36:57.606387Z"
    }
   },
   "cell_type": "code",
   "source": [
    "import pandas as pd\n",
    "from langchain_huggingface import HuggingFaceEmbeddings\n",
    "from langchain_community.vectorstores import Chroma\n",
    "\n",
    "\n",
    "def retrieve_semantic_recommendations(query: str, db: Chroma, books_df: pd.DataFrame, top_k: int = 10) -> pd.DataFrame:\n",
    "    \"\"\"\n",
    "    Perform semantic search on a book vector database and return top matching books.\n",
    "\n",
    "    Parameters:\n",
    "        query (str): User query string.\n",
    "        db (Chroma): Chroma vector database containing book embeddings.\n",
    "        books_df (pd.DataFrame): Original book dataset with ISBNs and metadata.\n",
    "        top_k (int): Number of recommendations to return.\n",
    "\n",
    "    Returns:\n",
    "        pd.DataFrame: Top-k recommended books with full metadata.\n",
    "    \"\"\"\n",
    "    # Step 1: Semantic search\n",
    "    recs = db.similarity_search(query, k=50)  # Search top 50 similar documents\n",
    "\n",
    "    # Step 2: Extract ISBNs safely\n",
    "    isbn_list = []\n",
    "    for doc in recs:\n",
    "        text = doc.page_content.strip()\n",
    "        # Attempt to extract numeric ISBN from the start of the text\n",
    "        parts = text.split()\n",
    "        if parts:\n",
    "            isbn_str = ''.join(filter(str.isdigit, parts[0]))\n",
    "            if isbn_str.isdigit():\n",
    "                isbn_list.append(int(isbn_str))\n",
    "\n",
    "    # Step 3: Filter books by ISBN and return top_k\n",
    "    recommended_books = books_df[books_df[\"isbn13\"].isin(isbn_list)].head(top_k)\n",
    "\n",
    "    return recommended_books\n"
   ],
   "id": "90c1c243983290b1",
   "outputs": [],
   "execution_count": 61
  },
  {
   "metadata": {
    "ExecuteTime": {
     "end_time": "2025-08-30T17:37:07.176181Z",
     "start_time": "2025-08-30T17:37:07.156003Z"
    }
   },
   "cell_type": "code",
   "source": [
    "# Make sure db_books is your Chroma vector store and books is your DataFrame\n",
    "query = \"A book to teach children about animals\"\n",
    "recommendations = retrieve_semantic_recommendations(query, db_books, books, top_k=10)\n",
    "print(recommendations)\n"
   ],
   "id": "5524c61c620c7ec9",
   "outputs": [
    {
     "name": "stdout",
     "output_type": "stream",
     "text": [
      "             isbn13      isbn10                                title  \\\n",
      "368   9780061127762  0061127760    Charlotte's Web Signature Edition   \n",
      "404   9780064402453  0064402452           Racso and the Rats of NIMH   \n",
      "406   9780064403870  0064403874  R-T, Margaret, and the Rats of NIMH   \n",
      "407   9780064404419  0064404412                   The Rainbow People   \n",
      "416   9780064406925  006440692X                   Winter on the Farm   \n",
      "429   9780064434980  0064434982                 The Deer in the Wood   \n",
      "812   9780142302279  0142302279                         Dirty Beasts   \n",
      "1078  9780241003008  0241003008          The Very Hungry Caterpillar   \n",
      "1222  9780312319731  0312319738                             Dominion   \n",
      "1479  9780345434906  0345434900               The Real James Herriot   \n",
      "\n",
      "                    authors                 categories  \\\n",
      "368             E. B. White           Juvenile Fiction   \n",
      "404       Jane Leslie Conly           Juvenile Fiction   \n",
      "406       Jane Leslie Conly           Juvenile Fiction   \n",
      "407            Laurence Yep           Juvenile Fiction   \n",
      "416    Laura Ingalls Wilder           Juvenile Fiction   \n",
      "429    Laura Ingalls Wilder           Juvenile Fiction   \n",
      "812              Roald Dahl        Juvenile Nonfiction   \n",
      "1078             Eric Carle          Babytime resource   \n",
      "1222         Matthew Scully                     Nature   \n",
      "1479  James Wight;Jim Wight  Biography & Autobiography   \n",
      "\n",
      "                                              thumbnail  \\\n",
      "368   http://books.google.com/books/content?id=oi9BP...   \n",
      "404   http://books.google.com/books/content?id=MgoNv...   \n",
      "406   http://books.google.com/books/content?id=WTHHH...   \n",
      "407   http://books.google.com/books/content?id=5AHwq...   \n",
      "416   http://books.google.com/books/content?id=IvlKH...   \n",
      "429   http://books.google.com/books/content?id=V7YDW...   \n",
      "812                                                 NaN   \n",
      "1078  http://books.google.com/books/content?id=DpGEQ...   \n",
      "1222  http://books.google.com/books/content?id=_htG-...   \n",
      "1479  http://books.google.com/books/content?id=TrOoi...   \n",
      "\n",
      "                                            description  published_year  \\\n",
      "368   This is the story of a little girl named Fern ...          2006.0   \n",
      "404   ‘Racso, a brash and boastful little rodent, is...          1988.0   \n",
      "406   When Margaret and her younger brother, Artie, ...          1991.0   \n",
      "407   \"Culled from 69 stories collected in a [1930s]...          1992.0   \n",
      "416   The Little House books tell the story of a lit...          1997.0   \n",
      "429   Even the youngest child can enjoy a special ad...          1999.0   \n",
      "812   Poems tell the stories of a smart pig who outw...          2002.0   \n",
      "1078  Eric Carle's children's classic is the story o...          1994.0   \n",
      "1222  Argues for responsible action in the treatment...          2003.0   \n",
      "1479  A portrait of the best-selling author of All C...          2001.0   \n",
      "\n",
      "      average_rating  num_pages  ratings_count  \\\n",
      "368             4.16      224.0          226.0   \n",
      "404             3.76      288.0         3231.0   \n",
      "406             3.52      272.0          631.0   \n",
      "407             3.75      208.0          202.0   \n",
      "416             4.13       32.0          400.0   \n",
      "429             4.17       32.0          302.0   \n",
      "812             4.02       32.0         3953.0   \n",
      "1078            4.29       26.0       340101.0   \n",
      "1222            4.16      448.0         1131.0   \n",
      "1479            4.20      371.0         4178.0   \n",
      "\n",
      "                                     title_and_subtitle  \\\n",
      "368                   Charlotte's Web Signature Edition   \n",
      "404                          Racso and the Rats of NIMH   \n",
      "406                 R-T, Margaret, and the Rats of NIMH   \n",
      "407                                  The Rainbow People   \n",
      "416                                  Winter on the Farm   \n",
      "429                                The Deer in the Wood   \n",
      "812                                        Dirty Beasts   \n",
      "1078                        The Very Hungry Caterpillar   \n",
      "1222  Dominion + The Power of Man, the Suffering of ...   \n",
      "1479     The Real James Herriot + A Memoir of My Father   \n",
      "\n",
      "                                     tagged_description  \n",
      "368   9780061127762 This is the story of a little gi...  \n",
      "404   9780064402453 ‘Racso, a brash and boastful lit...  \n",
      "406   9780064403870 When Margaret and her younger br...  \n",
      "407   9780064404419 \"Culled from 69 stories collecte...  \n",
      "416   9780064406925 The Little House books tell the ...  \n",
      "429   9780064434980 Even the youngest child can enjo...  \n",
      "812   9780142302279 Poems tell the stories of a smar...  \n",
      "1078  9780241003008 Eric Carle's children's classic ...  \n",
      "1222  9780312319731 Argues for responsible action in...  \n",
      "1479  9780345434906 A portrait of the best-selling a...  \n"
     ]
    }
   ],
   "execution_count": 62
  },
  {
   "metadata": {
    "ExecuteTime": {
     "end_time": "2025-08-30T17:38:13.623552Z",
     "start_time": "2025-08-30T17:38:13.595858Z"
    }
   },
   "cell_type": "code",
   "source": [
    "query = \"Stories about friendship and adventure\"\n",
    "recommendations = retrieve_semantic_recommendations(query, db_books, books, top_k=5)\n",
    "print(recommendations)\n"
   ],
   "id": "71491674672fd8e8",
   "outputs": [
    {
     "name": "stdout",
     "output_type": "stream",
     "text": [
      "            isbn13      isbn10               title             authors  \\\n",
      "123  9780060515225  0060515228      Fragile Things         Neil Gaiman   \n",
      "215  9780060760441  0060760443   The Reading Group     Elizabeth Noble   \n",
      "401  9780064400961  0064400964          Betsy-Tacy  Maud Hart Lovelace   \n",
      "527  9780099498582  0099498588            Dublin 4        Maeve Binchy   \n",
      "768  9780141187198  0141187190  Seven Gothic Tales        Isak Dinesen   \n",
      "\n",
      "           categories                                          thumbnail  \\\n",
      "123           Fiction  http://books.google.com/books/content?id=ggLzJ...   \n",
      "215           Fiction  http://books.google.com/books/content?id=IagWj...   \n",
      "401  Juvenile Fiction  http://books.google.com/books/content?id=tfUCG...   \n",
      "527  Domestic fiction  http://books.google.com/books/content?id=yPgE7...   \n",
      "768           Fiction  http://books.google.com/books/content?id=4uKAn...   \n",
      "\n",
      "                                           description  published_year  \\\n",
      "123  A mysterious circus terrifies an audience for ...          2006.0   \n",
      "215  The Reading Group follows the trials and tribu...          2005.0   \n",
      "401  Best Friends Forever There are lots of childre...          1993.0   \n",
      "527  A vintage collection of short stories set in t...          2006.0   \n",
      "768  A selection of stories about romantics, advent...          2002.0   \n",
      "\n",
      "     average_rating  num_pages  ratings_count  \\\n",
      "123            4.01      360.0        43210.0   \n",
      "215            3.34      429.0         6408.0   \n",
      "401            4.07      144.0        20496.0   \n",
      "527            3.64      256.0         2089.0   \n",
      "768            3.94      368.0           82.0   \n",
      "\n",
      "                              title_and_subtitle  \\\n",
      "123  Fragile Things + Short Fictions and Wonders   \n",
      "215                  The Reading Group + A Novel   \n",
      "401                                   Betsy-Tacy   \n",
      "527                                     Dublin 4   \n",
      "768                           Seven Gothic Tales   \n",
      "\n",
      "                                    tagged_description  \n",
      "123  9780060515225 A mysterious circus terrifies an...  \n",
      "215  9780060760441 The Reading Group follows the tr...  \n",
      "401  9780064400961 Best Friends Forever There are l...  \n",
      "527  9780099498582 A vintage collection of short st...  \n",
      "768  9780141187198 A selection of stories about rom...  \n"
     ]
    }
   ],
   "execution_count": 63
  }
 ],
 "metadata": {
  "kernelspec": {
   "display_name": "Python 3 (ipykernel)",
   "language": "python",
   "name": "python3"
  },
  "language_info": {
   "codemirror_mode": {
    "name": "ipython",
    "version": 3
   },
   "file_extension": ".py",
   "mimetype": "text/x-python",
   "name": "python",
   "nbconvert_exporter": "python",
   "pygments_lexer": "ipython3",
   "version": "3.13.1"
  }
 },
 "nbformat": 4,
 "nbformat_minor": 5
}
